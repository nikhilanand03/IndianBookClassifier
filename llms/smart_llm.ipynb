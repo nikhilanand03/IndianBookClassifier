{
 "cells": [
  {
   "cell_type": "code",
   "execution_count": null,
   "metadata": {},
   "outputs": [],
   "source": [
    "import "
   ]
  }
 ],
 "metadata": {
  "interpreter": {
   "hash": "da35976cc3736533cc7d4370788b25d127c597f37aada211e5d6a06d0405c7e6"
  },
  "kernelspec": {
   "display_name": "Python 3.11.7 64-bit",
   "name": "python3"
  },
  "language_info": {
   "name": "python",
   "version": ""
  },
  "orig_nbformat": 4
 },
 "nbformat": 4,
 "nbformat_minor": 2
}