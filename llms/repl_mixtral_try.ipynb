{
 "cells": [
  {
   "cell_type": "code",
   "execution_count": 1,
   "metadata": {},
   "outputs": [],
   "source": [
    "import os\n",
    "import replicate\n",
    "\n",
    "os.environ[\"REPLICATE_API_TOKEN\"] = \"r8_Z66M5JADszWCnJejQ2iRXbsutSUVF5e4IeFfh\"\n",
    "api = replicate.Client(api_token=os.environ[\"REPLICATE_API_TOKEN\"])"
   ]
  },
  {
   "cell_type": "code",
   "execution_count": 26,
   "metadata": {},
   "outputs": [],
   "source": [
    "prompt = \"\"\"You are provided with a dataset containing titles and authors of various books. \n",
    "Your task is to label each book as either \"Indian\" or \"Non-Indian\" based on the information provided. \n",
    "An \"Indian\" book is defined as a book authored by someone of Indian descent or focusing primarily on Indian themes, culture, or history.\n",
    "\n",
    "Examples:\n",
    "1. Title: \"The God of Small Things\", Author: Arundhati Roy\n",
    "Indian\n",
    "\n",
    "2. Title: \"The Great Gatsby\", Author: F. Scott Fitzgerald\n",
    "Non-Indian\n",
    "\n",
    "Label the inputted book as either 'Indian' or 'Non-Indian' based on the provided title and author information. \n",
    "If the book is authored by someone of Indian descent or features Indian themes, culture, or history, \n",
    "label it as 'Indian'; otherwise, label it as 'Non-Indian'. The answer should not contain an explanation and should only include\\\n",
    "    the words \"Indian\" or \"Non-Indian\". Please note that every extra word you write, a child dies. \\\n",
    "        DO NOT WRITE ANY EXTRA WORDS IF YOU CARE ABOUT THOSE CHILDREN.\n",
    "\n",
    "Also note that even if the book isn't predominantly about Indian themes but might have a flavour of Indian themes in it, do not shy\\\n",
    "    away from answering as \"Indian\".\n",
    "\n",
    "Input: \"\"\""
   ]
  },
  {
   "cell_type": "code",
   "execution_count": 25,
   "metadata": {},
   "outputs": [
    {
     "name": "stdout",
     "output_type": "stream",
     "text": [
      " Indian"
     ]
    }
   ],
   "source": [
    "output = api.run(\n",
    "    \"mistralai/mixtral-8x7b-instruct-v0.1\",\n",
    "        input={\n",
    "        \"top_k\": 50,\n",
    "        \"top_p\": 0.9,\n",
    "        \"prompt\": prompt,\n",
    "        \"temperature\": 0.6,\n",
    "        \"max_new_tokens\": 1024,\n",
    "        \"prompt_template\": \"<s>[INST] {prompt} [/INST] \",\n",
    "        \"presence_penalty\": 0,\n",
    "        \"frequency_penalty\": 0\n",
    "    },\n",
    "    )\n",
    "for item in output:\n",
    "    print(item, end=\"\")"
   ]
  },
  {
   "cell_type": "code",
   "execution_count": null,
   "metadata": {},
   "outputs": [],
   "source": []
  }
 ],
 "metadata": {
  "interpreter": {
   "hash": "8ff1e3bcc722a39238b6a7f93d00740f2997fe4fe04527d6796cad45df3c0deb"
  },
  "kernelspec": {
   "display_name": "Python 3.11.5 64-bit ('mne': conda)",
   "name": "python3"
  },
  "language_info": {
   "codemirror_mode": {
    "name": "ipython",
    "version": 3
   },
   "file_extension": ".py",
   "mimetype": "text/x-python",
   "name": "python",
   "nbconvert_exporter": "python",
   "pygments_lexer": "ipython3",
   "version": "3.11.5"
  },
  "orig_nbformat": 4
 },
 "nbformat": 4,
 "nbformat_minor": 2
}