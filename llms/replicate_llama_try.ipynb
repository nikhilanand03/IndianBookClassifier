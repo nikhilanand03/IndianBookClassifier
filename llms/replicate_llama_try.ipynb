{
 "cells": [
  {
   "cell_type": "code",
   "execution_count": 13,
   "metadata": {},
   "outputs": [
    {
     "name": "stdout",
     "output_type": "stream",
     "text": [
      " Hello! I'm happy to assist you in any way I can. Is there something specific you need help with or is there a task you'd like me to assist you with?"
     ]
    }
   ],
   "source": [
    "import os\n",
    "import replicate\n",
    "\n",
    "os.environ[\"REPLICATE_API_TOKEN\"] = \"r8_Z66M5JADszWCnJejQ2iRXbsutSUVF5e4IeFfh\"\n",
    "api = replicate.Client(api_token=os.environ[\"REPLICATE_API_TOKEN\"])"
   ]
  },
  {
   "cell_type": "code",
   "execution_count": 15,
   "metadata": {},
   "outputs": [],
   "source": [
    "prompt = \"\"\"You are provided with a dataset containing titles and authors of various books. \n",
    "Your task is to label each book as either \"Indian\" or \"Non-Indian\" based on the information provided. \n",
    "An \"Indian\" book is defined as a book authored by someone of Indian descent or focusing primarily on Indian themes, culture, or history.\n",
    "\n",
    "Examples:\n",
    "1. Title: \"The God of Small Things\", Author: Arundhati Roy\n",
    "Indian\n",
    "\n",
    "2. Title: \"The Great Gatsby\", Author: F. Scott Fitzgerald\n",
    "Non-Indian\n",
    "\n",
    "Label each book in the dataset as either 'Indian' or 'Non-Indian' based on the provided title and author information. \n",
    "If the book is authored by someone of Indian descent or predominantly features Indian themes, culture, or history, \n",
    "label it as 'Indian'; otherwise, label it as 'Non-Indian'. The answer should not contain an explanation and should only include\\\n",
    "    the words \"Indian\" or \"Non-Indian\".\n",
    "\"\"\""
   ]
  },
  {
   "cell_type": "code",
   "execution_count": 16,
   "metadata": {},
   "outputs": [
    {
     "name": "stdout",
     "output_type": "stream",
     "text": [
      " Sure, I can help you with that! Here's the labeled dataset:\n",
      "\n",
      "1. Title: \"The God of Small Things\", Author: Arundhati Roy - Indian\n",
      "2. Title: \"The Great Gatsby\", Author: F. Scott Fitzgerald - Non-Indian\n",
      "3. Title: \"The Namesake\", Author: Jhumpa Lahiri - Indian\n",
      "4. Title: \"The Satanic Verses\", Author: Salman Rushdie - Indian\n",
      "5. Title: \"The Inheritance of Loss\", Author: Kiran Desai -"
     ]
    }
   ],
   "source": [
    "output = api.run(\n",
    "    \"meta/llama-2-70b-chat:02e509c789964a7ea8736978a43525956ef40397be9033abf9fd2badfe68c9e3\",\n",
    "        input={\"prompt\": prompt}\n",
    "    )\n",
    "for item in output:\n",
    "    print(item, end=\"\")"
   ]
  },
  {
   "cell_type": "code",
   "execution_count": null,
   "metadata": {},
   "outputs": [],
   "source": [
    "output = api.run(\n",
    "    \"meta/llama-2-70b-chat:02e509c789964a7ea8736978a43525956ef40397be9033abf9fd2badfe68c9e3\",\n",
    "        input={\"prompt\": prompt}\n",
    "    )\n",
    "for item in output:\n",
    "    print(item, end=\"\")"
   ]
  }
 ],
 "metadata": {
  "interpreter": {
   "hash": "8ff1e3bcc722a39238b6a7f93d00740f2997fe4fe04527d6796cad45df3c0deb"
  },
  "kernelspec": {
   "display_name": "Python 3.11.5 64-bit ('mne': conda)",
   "name": "python3"
  },
  "language_info": {
   "codemirror_mode": {
    "name": "ipython",
    "version": 3
   },
   "file_extension": ".py",
   "mimetype": "text/x-python",
   "name": "python",
   "nbconvert_exporter": "python",
   "pygments_lexer": "ipython3",
   "version": "3.11.5"
  },
  "orig_nbformat": 4
 },
 "nbformat": 4,
 "nbformat_minor": 2
}