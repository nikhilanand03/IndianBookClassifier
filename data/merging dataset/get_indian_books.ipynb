{
 "cells": [
  {
   "cell_type": "code",
   "execution_count": 1,
   "metadata": {},
   "outputs": [],
   "source": [
    "import pandas as pd"
   ]
  },
  {
   "cell_type": "code",
   "execution_count": 25,
   "metadata": {},
   "outputs": [],
   "source": [
    "with open(\"indian_books.txt\",'r') as file:\n",
    "    data = []\n",
    "    lines = file.readlines()\n",
    "    for line in lines:\n",
    "        arr = line.split(\"\\t\")\n",
    "        if(len(arr)==1):\n",
    "            arr=arr[0].split(\"  \")\n",
    "            while('' in arr):\n",
    "                arr.remove('')\n",
    "\n",
    "        for i in range(len(arr)):\n",
    "            arr[i] = arr[i].replace('\\n',\"\").strip()\n",
    "\n",
    "        try:\n",
    "            dic = {\"Title\":arr[0],\"Author\":arr[1],\"Series\":\"NA\",\"Lang\":\"English\",\"Label\":\"Indian\"}\n",
    "        except:\n",
    "            dic = {\"Title\":arr[0],\"Author\":\"NA\",\"Series\":\"NA\",\"Lang\":\"English\",\"Label\":\"Indian\"}\n",
    "        data.append(dic)\n",
    "    \n",
    "    df = pd.DataFrame(data)"
   ]
  },
  {
   "cell_type": "code",
   "execution_count": 26,
   "metadata": {},
   "outputs": [
    {
     "data": {
      "text/html": [
       "<div>\n",
       "<style scoped>\n",
       "    .dataframe tbody tr th:only-of-type {\n",
       "        vertical-align: middle;\n",
       "    }\n",
       "\n",
       "    .dataframe tbody tr th {\n",
       "        vertical-align: top;\n",
       "    }\n",
       "\n",
       "    .dataframe thead th {\n",
       "        text-align: right;\n",
       "    }\n",
       "</style>\n",
       "<table border=\"1\" class=\"dataframe\">\n",
       "  <thead>\n",
       "    <tr style=\"text-align: right;\">\n",
       "      <th></th>\n",
       "      <th>Title</th>\n",
       "      <th>Author</th>\n",
       "      <th>Series</th>\n",
       "      <th>Lang</th>\n",
       "      <th>Label</th>\n",
       "    </tr>\n",
       "  </thead>\n",
       "  <tbody>\n",
       "    <tr>\n",
       "      <th>0</th>\n",
       "      <td>Book Author</td>\n",
       "      <td>NA</td>\n",
       "      <td>NA</td>\n",
       "      <td>English</td>\n",
       "      <td>Indian</td>\n",
       "    </tr>\n",
       "    <tr>\n",
       "      <th>1</th>\n",
       "      <td>Making India Awesome</td>\n",
       "      <td>Chetan Bhagat</td>\n",
       "      <td>NA</td>\n",
       "      <td>English</td>\n",
       "      <td>Indian</td>\n",
       "    </tr>\n",
       "    <tr>\n",
       "      <th>2</th>\n",
       "      <td>One Indian Girl</td>\n",
       "      <td>Chetan Bhagat</td>\n",
       "      <td>NA</td>\n",
       "      <td>English</td>\n",
       "      <td>Indian</td>\n",
       "    </tr>\n",
       "    <tr>\n",
       "      <th>3</th>\n",
       "      <td>Half Girlfriend</td>\n",
       "      <td>Chetan Bhagat</td>\n",
       "      <td>NA</td>\n",
       "      <td>English</td>\n",
       "      <td>Indian</td>\n",
       "    </tr>\n",
       "    <tr>\n",
       "      <th>4</th>\n",
       "      <td>Revolution 2020</td>\n",
       "      <td>Chetan Bhagat</td>\n",
       "      <td>NA</td>\n",
       "      <td>English</td>\n",
       "      <td>Indian</td>\n",
       "    </tr>\n",
       "    <tr>\n",
       "      <th>...</th>\n",
       "      <td>...</td>\n",
       "      <td>...</td>\n",
       "      <td>...</td>\n",
       "      <td>...</td>\n",
       "      <td>...</td>\n",
       "    </tr>\n",
       "    <tr>\n",
       "      <th>252</th>\n",
       "      <td>The Winning Way</td>\n",
       "      <td>Harsha Bhogle</td>\n",
       "      <td>NA</td>\n",
       "      <td>English</td>\n",
       "      <td>Indian</td>\n",
       "    </tr>\n",
       "    <tr>\n",
       "      <th>253</th>\n",
       "      <td>Nehru: The Invention of India</td>\n",
       "      <td>Shashi Tharoor</td>\n",
       "      <td>NA</td>\n",
       "      <td>English</td>\n",
       "      <td>Indian</td>\n",
       "    </tr>\n",
       "    <tr>\n",
       "      <th>254</th>\n",
       "      <td>Nellie, 1983</td>\n",
       "      <td>Diganta Sharma</td>\n",
       "      <td>NA</td>\n",
       "      <td>English</td>\n",
       "      <td>Indian</td>\n",
       "    </tr>\n",
       "    <tr>\n",
       "      <th>255</th>\n",
       "      <td>A New Idea of India</td>\n",
       "      <td>Harsh Madhusudhan</td>\n",
       "      <td>NA</td>\n",
       "      <td>English</td>\n",
       "      <td>Indian</td>\n",
       "    </tr>\n",
       "    <tr>\n",
       "      <th>256</th>\n",
       "      <td>Nine Lives: In Search of the Sacred in Modern ...</td>\n",
       "      <td>William Dalrymple</td>\n",
       "      <td>NA</td>\n",
       "      <td>English</td>\n",
       "      <td>Indian</td>\n",
       "    </tr>\n",
       "  </tbody>\n",
       "</table>\n",
       "<p>257 rows × 5 columns</p>\n",
       "</div>"
      ],
      "text/plain": [
       "                                                 Title             Author  \\\n",
       "0                                          Book Author                 NA   \n",
       "1                                 Making India Awesome      Chetan Bhagat   \n",
       "2                                      One Indian Girl      Chetan Bhagat   \n",
       "3                                      Half Girlfriend      Chetan Bhagat   \n",
       "4                                      Revolution 2020      Chetan Bhagat   \n",
       "..                                                 ...                ...   \n",
       "252                                    The Winning Way      Harsha Bhogle   \n",
       "253                      Nehru: The Invention of India     Shashi Tharoor   \n",
       "254                                       Nellie, 1983     Diganta Sharma   \n",
       "255                                A New Idea of India  Harsh Madhusudhan   \n",
       "256  Nine Lives: In Search of the Sacred in Modern ...  William Dalrymple   \n",
       "\n",
       "    Series     Lang   Label  \n",
       "0       NA  English  Indian  \n",
       "1       NA  English  Indian  \n",
       "2       NA  English  Indian  \n",
       "3       NA  English  Indian  \n",
       "4       NA  English  Indian  \n",
       "..     ...      ...     ...  \n",
       "252     NA  English  Indian  \n",
       "253     NA  English  Indian  \n",
       "254     NA  English  Indian  \n",
       "255     NA  English  Indian  \n",
       "256     NA  English  Indian  \n",
       "\n",
       "[257 rows x 5 columns]"
      ]
     },
     "execution_count": 26,
     "metadata": {},
     "output_type": "execute_result"
    }
   ],
   "source": [
    "df"
   ]
  },
  {
   "cell_type": "code",
   "execution_count": 27,
   "metadata": {},
   "outputs": [],
   "source": [
    "df.to_csv(\"indian_books.csv\")"
   ]
  },
  {
   "cell_type": "markdown",
   "metadata": {},
   "source": [
    "Merging datasets"
   ]
  },
  {
   "cell_type": "code",
   "execution_count": 32,
   "metadata": {},
   "outputs": [
    {
     "name": "stderr",
     "output_type": "stream",
     "text": [
      "/var/folders/hr/cn8gd6d15xv_6m22yptdtyhw0000gn/T/ipykernel_62546/2646935129.py:3: FutureWarning: The frame.append method is deprecated and will be removed from pandas in a future version. Use pandas.concat instead.\n",
      "  df2 = df2.append(df1, ignore_index=True).drop('Unnamed: 0',axis=1)\n"
     ]
    }
   ],
   "source": [
    "df1 = pd.read_csv(\"../llms/non_indian_books.csv\")\n",
    "df2 = pd.read_csv(\"indian_books.csv\")\n",
    "df2 = df2.append(df1, ignore_index=True).drop('Unnamed: 0',axis=1)\n",
    "df2.to_csv(\"merged_dataset.csv\")"
   ]
  }
 ],
 "metadata": {
  "interpreter": {
   "hash": "8ff1e3bcc722a39238b6a7f93d00740f2997fe4fe04527d6796cad45df3c0deb"
  },
  "kernelspec": {
   "display_name": "Python 3.11.5 64-bit ('mne': conda)",
   "name": "python3"
  },
  "language_info": {
   "codemirror_mode": {
    "name": "ipython",
    "version": 3
   },
   "file_extension": ".py",
   "mimetype": "text/x-python",
   "name": "python",
   "nbconvert_exporter": "python",
   "pygments_lexer": "ipython3",
   "version": "3.11.5"
  },
  "orig_nbformat": 4
 },
 "nbformat": 4,
 "nbformat_minor": 2
}